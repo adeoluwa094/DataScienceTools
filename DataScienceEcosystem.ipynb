{
 "cells": [
  {
   "cell_type": "markdown",
   "id": "dd39ee25-de32-447f-bc18-8b1360e99781",
   "metadata": {},
   "source": [
    "# Data Science Tools and Ecosystem"
   ]
  },
  {
   "cell_type": "markdown",
   "id": "88552334-ca24-4022-a771-c880be3f1910",
   "metadata": {},
   "source": [
    "In this notebook, Data Science Tools and Ecosystem are summarized."
   ]
  },
  {
   "cell_type": "markdown",
   "id": "7acfb07b-d324-48b0-b56d-70fe42977a58",
   "metadata": {},
   "source": [
    "**Objectives:**\n",
    "\n",
    "- Popular Languages used by Data Scientists\n",
    "- Commonly used Libraries by Data Scientists\n",
    "- Data Science Tools\n",
    "- Simple Arithmetic expressions in Python\n"
   ]
  },
  {
   "cell_type": "markdown",
   "id": "9c355117-127a-43ee-ab5a-b8a882c0f7a4",
   "metadata": {},
   "source": [
    "Some of the popular languages that Data Scientists use are:\n",
    "1. Python\n",
    "2. R\n",
    "3. SQL\n",
    "4. Scala\n",
    "5. Java\n",
    "6. Julia\n",
    "7. C++\n",
    "8. PHP\n",
    "9. Go\n",
    "10. Ruby"
   ]
  },
  {
   "cell_type": "markdown",
   "id": "8efca336-cf92-4dd3-8869-fcb468257aa8",
   "metadata": {},
   "source": [
    "Some of the commonly used libraries used by Data Scientists include:\n",
    "1. Pandas\n",
    "2. Numpy\n",
    "3. Matplotlib\n",
    "4. Seaborn\n",
    "5. Scikit-learn\n",
    "6. Keras\n",
    "7. Tensor flow\n",
    "8. PiTorch\n"
   ]
  },
  {
   "cell_type": "markdown",
   "id": "90cc98fb-512a-4092-aed3-622f69f1c93e",
   "metadata": {},
   "source": [
    "|Data Science Tools|\n",
    "|------------------|\n",
    "|Python|\n",
    "|Jupyter Notebook|\n",
    "|RStudio|"
   ]
  },
  {
   "cell_type": "markdown",
   "id": "de119eb8-9a72-4926-ae25-09d30b0cc4e5",
   "metadata": {
    "jp-MarkdownHeadingCollapsed": true,
    "tags": []
   },
   "source": [
    "### Below are a few examples of evaluating arithmetic expressions in Python."
   ]
  },
  {
   "cell_type": "code",
   "execution_count": 7,
   "id": "01db5a68-ca6d-4d02-9456-a9a7addc348d",
   "metadata": {
    "tags": []
   },
   "outputs": [
    {
     "data": {
      "text/plain": [
       "17"
      ]
     },
     "execution_count": 7,
     "metadata": {},
     "output_type": "execute_result"
    }
   ],
   "source": [
    "(3*4)+5\n",
    "#This a simple arithmetic expression to mutiply then add integers"
   ]
  },
  {
   "cell_type": "code",
   "execution_count": 6,
   "id": "77c3c7ef-c0a7-4bfe-9587-c0c3e5d2cbfe",
   "metadata": {
    "tags": []
   },
   "outputs": [
    {
     "data": {
      "text/plain": [
       "3.3333333333333335"
      ]
     },
     "execution_count": 6,
     "metadata": {},
     "output_type": "execute_result"
    }
   ],
   "source": [
    "200/60\n",
    "#This will convert 200 minutes to hours by dividing 200minutes by 60"
   ]
  },
  {
   "cell_type": "markdown",
   "id": "a25318f5-7d34-4ccc-a2b2-45e4b45386ce",
   "metadata": {},
   "source": [
    "## Author\n",
    "Adeolu Ebenezer Otunuga"
   ]
  }
 ],
 "metadata": {
  "kernelspec": {
   "display_name": "Python",
   "language": "python",
   "name": "conda-env-python-py"
  },
  "language_info": {
   "codemirror_mode": {
    "name": "ipython",
    "version": 3
   },
   "file_extension": ".py",
   "mimetype": "text/x-python",
   "name": "python",
   "nbconvert_exporter": "python",
   "pygments_lexer": "ipython3",
   "version": "3.7.12"
  }
 },
 "nbformat": 4,
 "nbformat_minor": 5
}
